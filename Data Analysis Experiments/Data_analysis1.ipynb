{
 "cells": [
  {
   "cell_type": "code",
   "execution_count": 4,
   "metadata": {},
   "outputs": [
    {
     "name": "stdout",
     "output_type": "stream",
     "text": [
      "Modcloth Data Sample: {'item_id': '123373', 'waist': '29', 'size': 7, 'quality': 5, 'cup size': 'd', 'hips': '38', 'bra size': '34', 'category': 'new', 'bust': '36', 'height': '5ft 6in', 'user_name': 'Emily', 'length': 'just right', 'fit': 'small', 'user_id': '991571'}\n",
      "Rent the Runway Data Sample: {'fit': 'fit', 'user_id': '420272', 'bust size': '34d', 'item_id': '2260466', 'weight': '137lbs', 'rating': '10', 'rented for': 'vacation', 'review_text': \"An adorable romper! Belt and zipper were a little hard to navigate in a full day of wear/bathroom use, but that's to be expected. Wish it had pockets, but other than that-- absolutely perfect! I got a million compliments.\", 'body type': 'hourglass', 'review_summary': 'So many compliments!', 'category': 'romper', 'height': '5\\' 8\"', 'size': 14, 'age': '28', 'review_date': 'April 20, 2016'}\n"
     ]
    }
   ],
   "source": [
    "import json\n",
    "\n",
    "# File paths\n",
    "file1 = r\"C:\\Users\\Lenovo\\Desktop\\CSE 258\\Assignment 2\\modcloth_final_data.json\"\n",
    "file2 = r\"C:\\Users\\Lenovo\\Desktop\\CSE 258\\Assignment 2\\renttherunway_final_data.json\"\n",
    "\n",
    "# Function to read JSON lines data from a file\n",
    "def read_json_lines(file_path):\n",
    "    data = []\n",
    "    with open(file_path, 'r', encoding='utf-8') as f:\n",
    "        for line in f:\n",
    "            data.append(json.loads(line.strip()))  # Load each JSON object per line\n",
    "    return data\n",
    "\n",
    "# Load data from each file\n",
    "modcloth_data = read_json_lines(file1)\n",
    "renttherunway_data = read_json_lines(file2)\n",
    "\n",
    "# Display the data (printing just the first entry for readability)\n",
    "print(\"Modcloth Data Sample:\", modcloth_data[0])\n",
    "print(\"Rent the Runway Data Sample:\", renttherunway_data[0])\n"
   ]
  },
  {
   "cell_type": "code",
   "execution_count": 5,
   "metadata": {},
   "outputs": [
    {
     "data": {
      "text/plain": [
       "{'item_id': '123373',\n",
       " 'waist': '29',\n",
       " 'size': 7,\n",
       " 'quality': 5,\n",
       " 'cup size': 'd',\n",
       " 'hips': '38',\n",
       " 'bra size': '34',\n",
       " 'category': 'new',\n",
       " 'bust': '36',\n",
       " 'height': '5ft 6in',\n",
       " 'user_name': 'Emily',\n",
       " 'length': 'just right',\n",
       " 'fit': 'small',\n",
       " 'user_id': '991571'}"
      ]
     },
     "execution_count": 5,
     "metadata": {},
     "output_type": "execute_result"
    }
   ],
   "source": [
    "modcloth_data[0]"
   ]
  },
  {
   "cell_type": "code",
   "execution_count": 6,
   "metadata": {},
   "outputs": [
    {
     "data": {
      "text/plain": [
       "{'fit': 'fit',\n",
       " 'user_id': '420272',\n",
       " 'bust size': '34d',\n",
       " 'item_id': '2260466',\n",
       " 'weight': '137lbs',\n",
       " 'rating': '10',\n",
       " 'rented for': 'vacation',\n",
       " 'review_text': \"An adorable romper! Belt and zipper were a little hard to navigate in a full day of wear/bathroom use, but that's to be expected. Wish it had pockets, but other than that-- absolutely perfect! I got a million compliments.\",\n",
       " 'body type': 'hourglass',\n",
       " 'review_summary': 'So many compliments!',\n",
       " 'category': 'romper',\n",
       " 'height': '5\\' 8\"',\n",
       " 'size': 14,\n",
       " 'age': '28',\n",
       " 'review_date': 'April 20, 2016'}"
      ]
     },
     "execution_count": 6,
     "metadata": {},
     "output_type": "execute_result"
    }
   ],
   "source": [
    "renttherunway_data[0]"
   ]
  },
  {
   "cell_type": "code",
   "execution_count": 14,
   "metadata": {},
   "outputs": [
    {
     "name": "stdout",
     "output_type": "stream",
     "text": [
      "\n",
      "14 Labels in Modcloth dataset: {'user_id', 'height', 'cup size', 'bra size', 'quality', 'size', 'hips', 'fit', 'length', 'item_id', 'bust', 'category', 'user_name', 'waist'}\n",
      "\n",
      "15 Labels in Rent the Runway dataset: {'review_text', 'user_id', 'height', 'review_summary', 'review_date', 'fit', 'size', 'body type', 'category', 'item_id', 'rating', 'weight', 'age', 'bust size', 'rented for'}\n",
      "\n",
      "6 Common labels: {'user_id', 'height', 'fit', 'size', 'item_id', 'category'}\n",
      "\n",
      "8 Labels unique to Modcloth dataset: {'cup size', 'bra size', 'quality', 'hips', 'length', 'bust', 'user_name', 'waist'}\n",
      "\n",
      "9 Labels unique to Rent the Runway dataset: {'review_text', 'review_summary', 'review_date', 'body type', 'rating', 'weight', 'age', 'bust size', 'rented for'}\n",
      "\n",
      "Number of entries in Modcloth dataset: 82790\n",
      "Number of entries in Rent the Runway dataset: 192544\n"
     ]
    }
   ],
   "source": [
    "# Extract unique labels (keys) for each dataset\n",
    "modcloth_labels = set(modcloth_data[0].keys())\n",
    "renttherunway_labels = set(renttherunway_data[0].keys())\n",
    "\n",
    "# Display the labels\n",
    "print(f\"\\n{len(modcloth_labels)} Labels in Modcloth dataset:\", modcloth_labels)\n",
    "print(f\"\\n{len(renttherunway_labels)} Labels in Rent the Runway dataset:\", renttherunway_labels)\n",
    "\n",
    "# Find common and unique labels\n",
    "common_labels = modcloth_labels.intersection(renttherunway_labels)\n",
    "unique_to_modcloth = modcloth_labels - renttherunway_labels\n",
    "unique_to_renttherunway = renttherunway_labels - modcloth_labels\n",
    "\n",
    "print(f\"\\n{len(common_labels)} Common labels:\", common_labels)\n",
    "print(f\"\\n{len(unique_to_modcloth)} Labels unique to Modcloth dataset:\", unique_to_modcloth)\n",
    "print(f\"\\n{len(unique_to_renttherunway)} Labels unique to Rent the Runway dataset:\", unique_to_renttherunway)\n",
    "\n",
    "# Count the number of entries in each dataset\n",
    "modcloth_count = len(modcloth_data)\n",
    "renttherunway_count = len(renttherunway_data)\n",
    "\n",
    "print(\"\\nNumber of entries in Modcloth dataset:\", modcloth_count)\n",
    "print(\"Number of entries in Rent the Runway dataset:\", renttherunway_count)\n"
   ]
  },
  {
   "cell_type": "code",
   "execution_count": 20,
   "metadata": {},
   "outputs": [
    {
     "name": "stdout",
     "output_type": "stream",
     "text": [
      "Label information in Modcloth dataset:\n",
      "item_id: 1378 unique values\n",
      "  Range: (123373.0, 807722.0)\n",
      "waist: 31 unique values\n",
      "  Range: (20.0, 50.0)\n",
      "size: 29 unique values\n",
      "  Range: (0.0, 38.0)\n",
      "quality: 5 unique values\n",
      "  Values: {1, 2, 3, 4, 5}\n",
      "cup size: 12 unique values\n",
      "  Values: {'ddd/f', 'b', 'aa', 'h', 'i', 'j', 'dddd/g', 'a', 'd', 'c', 'k', 'dd/e'}\n",
      "hips: 62 unique values\n",
      "  Range: (30.0, 60.0)\n",
      "bra size: 11 unique values\n",
      "  Values: {'30', '28', '42', '44', '38', '40', '36', '34', '48', '32', '46'}\n",
      "category: 7 unique values\n",
      "  Values: {'tops', 'dresses', 'bottoms', 'sale', 'wedding', 'new', 'outerwear'}\n",
      "bust: 40 unique values\n",
      "  Range: (20.0, 59.0)\n",
      "height: 41 unique values\n",
      "user_name: 32429 unique values\n",
      "  Range: (668612.0, 834418022.0)\n",
      "length: 5 unique values\n",
      "  Values: {'slightly long', 'just right', 'very short', 'very long', 'slightly short'}\n",
      "fit: 3 unique values\n",
      "  Values: {'small', 'large', 'fit'}\n",
      "user_id: 47958 unique values\n",
      "  Range: (6.0, 999972.0)\n",
      "\n",
      "Label information in Rent the Runway dataset:\n",
      "fit: 3 unique values\n",
      "  Values: {'small', 'large', 'fit'}\n",
      "user_id: 105571 unique values\n",
      "  Range: (9.0, 999997.0)\n",
      "bust size: 106 unique values\n",
      "item_id: 5850 unique values\n",
      "  Range: (123373.0, 2966087.0)\n",
      "weight: 190 unique values\n",
      "rating: 5 unique values\n",
      "  Values: {'10', '2', '8', '4', '6'}\n",
      "rented for: 9 unique values\n",
      "  Values: {'party: cocktail', 'wedding', 'other', 'party', 'vacation', 'formal affair', 'date', 'everyday', 'work'}\n",
      "review_text: 191031 unique values\n",
      "  Range: (0.0, 8.0)\n",
      "body type: 7 unique values\n",
      "  Values: {'hourglass', 'athletic', 'petite', 'straight & narrow', 'pear', 'full bust', 'apple'}\n",
      "review_summary: 154740 unique values\n",
      "  Range: (0.0, 2.0)\n",
      "category: 68 unique values\n",
      "height: 24 unique values\n",
      "size: 56 unique values\n",
      "  Range: (0.0, 58.0)\n",
      "age: 89 unique values\n",
      "  Range: (0.0, 117.0)\n",
      "review_date: 2274 unique values\n"
     ]
    }
   ],
   "source": [
    "from collections import defaultdict\n",
    "\n",
    "# Function to calculate dimensionality, values, and range for each label\n",
    "def calculate_label_dimensions(data):\n",
    "    label_info = {}\n",
    "    for label in data[0].keys():  # Go through each label in the dataset\n",
    "        unique_values = set(entry.get(label) for entry in data if entry.get(label) is not None)\n",
    "        dimension = len(unique_values)\n",
    "        \n",
    "        # Check if the data is numeric for range calculation\n",
    "        numeric_values = []\n",
    "        for value in unique_values:\n",
    "            if isinstance(value, (int, float)):\n",
    "                numeric_values.append(float(value))\n",
    "            elif isinstance(value, str) and value.replace('.', '', 1).isdigit():\n",
    "                numeric_values.append(float(value))\n",
    "        \n",
    "        is_numeric = len(numeric_values) > 0\n",
    "        \n",
    "        # Store information based on conditions\n",
    "        if is_numeric and dimension > 15:\n",
    "            value_range = (min(numeric_values), max(numeric_values))\n",
    "            label_info[label] = {\"dimensions\": dimension, \"range\": value_range}\n",
    "        elif dimension < 15:\n",
    "            label_info[label] = {\"dimensions\": dimension, \"values\": unique_values}\n",
    "        else:\n",
    "            label_info[label] = {\"dimensions\": dimension}\n",
    "    \n",
    "    return label_info\n",
    "\n",
    "# Calculate dimensions, values, and ranges for each label in both datasets\n",
    "modcloth_info = calculate_label_dimensions(modcloth_data)\n",
    "renttherunway_info = calculate_label_dimensions(renttherunway_data)\n",
    "\n",
    "# Display the information for each label\n",
    "print(\"Label information in Modcloth dataset:\")\n",
    "for label, info in modcloth_info.items():\n",
    "    print(f\"{label}: {info['dimensions']} unique values\")\n",
    "    if \"values\" in info:\n",
    "        print(f\"  Values: {info['values']}\")\n",
    "    if \"range\" in info:\n",
    "        print(f\"  Range: {info['range']}\")\n",
    "\n",
    "print(\"\\nLabel information in Rent the Runway dataset:\")\n",
    "for label, info in renttherunway_info.items():\n",
    "    print(f\"{label}: {info['dimensions']} unique values\")\n",
    "    if \"values\" in info:\n",
    "        print(f\"  Values: {info['values']}\")\n",
    "    if \"range\" in info:\n",
    "        print(f\"  Range: {info['range']}\")\n",
    "\n"
   ]
  }
 ],
 "metadata": {
  "kernelspec": {
   "display_name": "pytorch_gpu",
   "language": "python",
   "name": "python3"
  },
  "language_info": {
   "codemirror_mode": {
    "name": "ipython",
    "version": 3
   },
   "file_extension": ".py",
   "mimetype": "text/x-python",
   "name": "python",
   "nbconvert_exporter": "python",
   "pygments_lexer": "ipython3",
   "version": "3.7.13"
  }
 },
 "nbformat": 4,
 "nbformat_minor": 2
}
